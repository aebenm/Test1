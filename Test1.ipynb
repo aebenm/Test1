{
  "nbformat": 4,
  "nbformat_minor": 0,
  "metadata": {
    "colab": {
      "provenance": [],
      "authorship_tag": "ABX9TyOQZnXiblhsXp1GaatabmhF",
      "include_colab_link": true
    },
    "kernelspec": {
      "name": "python3",
      "display_name": "Python 3"
    },
    "language_info": {
      "name": "python"
    }
  },
  "cells": [
    {
      "cell_type": "markdown",
      "metadata": {
        "id": "view-in-github",
        "colab_type": "text"
      },
      "source": [
        "<a href=\"https://colab.research.google.com/github/aebenm/Test1/blob/main/Test1.ipynb\" target=\"_parent\"><img src=\"https://colab.research.google.com/assets/colab-badge.svg\" alt=\"Open In Colab\"/></a>"
      ]
    },
    {
      "cell_type": "code",
      "execution_count": 9,
      "metadata": {
        "id": "fERFZ3hPd4Pp"
      },
      "outputs": [],
      "source": [
        "import pandas as pd\n",
        "import numpy\n",
        "df = pd.read_csv(\"/content/FoodBalanceSheets_E_Africa_NOFLAG.csv\" , encoding=\"latin-1\")"
      ]
    },
    {
      "cell_type": "code",
      "source": [
        "df.head()"
      ],
      "metadata": {
        "colab": {
          "base_uri": "https://localhost:8080/",
          "height": 409
        },
        "id": "CmVKAAk9qxRr",
        "outputId": "e006da36-b70a-4aa8-d4ec-f9b705091e48"
      },
      "execution_count": 20,
      "outputs": [
        {
          "output_type": "execute_result",
          "data": {
            "text/plain": [
              "   Area Code     Area  Item Code         Item  Element Code  \\\n",
              "0          4  Algeria       2501   Population           511   \n",
              "1          4  Algeria       2501   Population          5301   \n",
              "2          4  Algeria       2901  Grand Total           664   \n",
              "3          4  Algeria       2901  Grand Total           674   \n",
              "4          4  Algeria       2901  Grand Total           684   \n",
              "\n",
              "                                  Element             Unit     Y2014  \\\n",
              "0           Total Population - Both sexes     1000 persons  38924.00   \n",
              "1                Domestic supply quantity      1000 tonnes      0.00   \n",
              "2           Food supply (kcal/capita/day)  kcal/capita/day   3377.00   \n",
              "3  Protein supply quantity (g/capita/day)     g/capita/day     94.90   \n",
              "4      Fat supply quantity (g/capita/day)     g/capita/day     80.06   \n",
              "\n",
              "      Y2015     Y2016     Y2017     Y2018  \n",
              "0  39728.00  40551.00  41389.00  42228.00  \n",
              "1      0.00      0.00      0.00      0.00  \n",
              "2   3379.00   3372.00   3341.00   3322.00  \n",
              "3     94.35     94.72     92.82     91.83  \n",
              "4     79.36     77.40     80.19     77.28  "
            ],
            "text/html": [
              "\n",
              "  <div id=\"df-045606a1-4e93-4c71-9e0b-456c2266b9e7\">\n",
              "    <div class=\"colab-df-container\">\n",
              "      <div>\n",
              "<style scoped>\n",
              "    .dataframe tbody tr th:only-of-type {\n",
              "        vertical-align: middle;\n",
              "    }\n",
              "\n",
              "    .dataframe tbody tr th {\n",
              "        vertical-align: top;\n",
              "    }\n",
              "\n",
              "    .dataframe thead th {\n",
              "        text-align: right;\n",
              "    }\n",
              "</style>\n",
              "<table border=\"1\" class=\"dataframe\">\n",
              "  <thead>\n",
              "    <tr style=\"text-align: right;\">\n",
              "      <th></th>\n",
              "      <th>Area Code</th>\n",
              "      <th>Area</th>\n",
              "      <th>Item Code</th>\n",
              "      <th>Item</th>\n",
              "      <th>Element Code</th>\n",
              "      <th>Element</th>\n",
              "      <th>Unit</th>\n",
              "      <th>Y2014</th>\n",
              "      <th>Y2015</th>\n",
              "      <th>Y2016</th>\n",
              "      <th>Y2017</th>\n",
              "      <th>Y2018</th>\n",
              "    </tr>\n",
              "  </thead>\n",
              "  <tbody>\n",
              "    <tr>\n",
              "      <th>0</th>\n",
              "      <td>4</td>\n",
              "      <td>Algeria</td>\n",
              "      <td>2501</td>\n",
              "      <td>Population</td>\n",
              "      <td>511</td>\n",
              "      <td>Total Population - Both sexes</td>\n",
              "      <td>1000 persons</td>\n",
              "      <td>38924.00</td>\n",
              "      <td>39728.00</td>\n",
              "      <td>40551.00</td>\n",
              "      <td>41389.00</td>\n",
              "      <td>42228.00</td>\n",
              "    </tr>\n",
              "    <tr>\n",
              "      <th>1</th>\n",
              "      <td>4</td>\n",
              "      <td>Algeria</td>\n",
              "      <td>2501</td>\n",
              "      <td>Population</td>\n",
              "      <td>5301</td>\n",
              "      <td>Domestic supply quantity</td>\n",
              "      <td>1000 tonnes</td>\n",
              "      <td>0.00</td>\n",
              "      <td>0.00</td>\n",
              "      <td>0.00</td>\n",
              "      <td>0.00</td>\n",
              "      <td>0.00</td>\n",
              "    </tr>\n",
              "    <tr>\n",
              "      <th>2</th>\n",
              "      <td>4</td>\n",
              "      <td>Algeria</td>\n",
              "      <td>2901</td>\n",
              "      <td>Grand Total</td>\n",
              "      <td>664</td>\n",
              "      <td>Food supply (kcal/capita/day)</td>\n",
              "      <td>kcal/capita/day</td>\n",
              "      <td>3377.00</td>\n",
              "      <td>3379.00</td>\n",
              "      <td>3372.00</td>\n",
              "      <td>3341.00</td>\n",
              "      <td>3322.00</td>\n",
              "    </tr>\n",
              "    <tr>\n",
              "      <th>3</th>\n",
              "      <td>4</td>\n",
              "      <td>Algeria</td>\n",
              "      <td>2901</td>\n",
              "      <td>Grand Total</td>\n",
              "      <td>674</td>\n",
              "      <td>Protein supply quantity (g/capita/day)</td>\n",
              "      <td>g/capita/day</td>\n",
              "      <td>94.90</td>\n",
              "      <td>94.35</td>\n",
              "      <td>94.72</td>\n",
              "      <td>92.82</td>\n",
              "      <td>91.83</td>\n",
              "    </tr>\n",
              "    <tr>\n",
              "      <th>4</th>\n",
              "      <td>4</td>\n",
              "      <td>Algeria</td>\n",
              "      <td>2901</td>\n",
              "      <td>Grand Total</td>\n",
              "      <td>684</td>\n",
              "      <td>Fat supply quantity (g/capita/day)</td>\n",
              "      <td>g/capita/day</td>\n",
              "      <td>80.06</td>\n",
              "      <td>79.36</td>\n",
              "      <td>77.40</td>\n",
              "      <td>80.19</td>\n",
              "      <td>77.28</td>\n",
              "    </tr>\n",
              "  </tbody>\n",
              "</table>\n",
              "</div>\n",
              "      <button class=\"colab-df-convert\" onclick=\"convertToInteractive('df-045606a1-4e93-4c71-9e0b-456c2266b9e7')\"\n",
              "              title=\"Convert this dataframe to an interactive table.\"\n",
              "              style=\"display:none;\">\n",
              "        \n",
              "  <svg xmlns=\"http://www.w3.org/2000/svg\" height=\"24px\"viewBox=\"0 0 24 24\"\n",
              "       width=\"24px\">\n",
              "    <path d=\"M0 0h24v24H0V0z\" fill=\"none\"/>\n",
              "    <path d=\"M18.56 5.44l.94 2.06.94-2.06 2.06-.94-2.06-.94-.94-2.06-.94 2.06-2.06.94zm-11 1L8.5 8.5l.94-2.06 2.06-.94-2.06-.94L8.5 2.5l-.94 2.06-2.06.94zm10 10l.94 2.06.94-2.06 2.06-.94-2.06-.94-.94-2.06-.94 2.06-2.06.94z\"/><path d=\"M17.41 7.96l-1.37-1.37c-.4-.4-.92-.59-1.43-.59-.52 0-1.04.2-1.43.59L10.3 9.45l-7.72 7.72c-.78.78-.78 2.05 0 2.83L4 21.41c.39.39.9.59 1.41.59.51 0 1.02-.2 1.41-.59l7.78-7.78 2.81-2.81c.8-.78.8-2.07 0-2.86zM5.41 20L4 18.59l7.72-7.72 1.47 1.35L5.41 20z\"/>\n",
              "  </svg>\n",
              "      </button>\n",
              "      \n",
              "  <style>\n",
              "    .colab-df-container {\n",
              "      display:flex;\n",
              "      flex-wrap:wrap;\n",
              "      gap: 12px;\n",
              "    }\n",
              "\n",
              "    .colab-df-convert {\n",
              "      background-color: #E8F0FE;\n",
              "      border: none;\n",
              "      border-radius: 50%;\n",
              "      cursor: pointer;\n",
              "      display: none;\n",
              "      fill: #1967D2;\n",
              "      height: 32px;\n",
              "      padding: 0 0 0 0;\n",
              "      width: 32px;\n",
              "    }\n",
              "\n",
              "    .colab-df-convert:hover {\n",
              "      background-color: #E2EBFA;\n",
              "      box-shadow: 0px 1px 2px rgba(60, 64, 67, 0.3), 0px 1px 3px 1px rgba(60, 64, 67, 0.15);\n",
              "      fill: #174EA6;\n",
              "    }\n",
              "\n",
              "    [theme=dark] .colab-df-convert {\n",
              "      background-color: #3B4455;\n",
              "      fill: #D2E3FC;\n",
              "    }\n",
              "\n",
              "    [theme=dark] .colab-df-convert:hover {\n",
              "      background-color: #434B5C;\n",
              "      box-shadow: 0px 1px 3px 1px rgba(0, 0, 0, 0.15);\n",
              "      filter: drop-shadow(0px 1px 2px rgba(0, 0, 0, 0.3));\n",
              "      fill: #FFFFFF;\n",
              "    }\n",
              "  </style>\n",
              "\n",
              "      <script>\n",
              "        const buttonEl =\n",
              "          document.querySelector('#df-045606a1-4e93-4c71-9e0b-456c2266b9e7 button.colab-df-convert');\n",
              "        buttonEl.style.display =\n",
              "          google.colab.kernel.accessAllowed ? 'block' : 'none';\n",
              "\n",
              "        async function convertToInteractive(key) {\n",
              "          const element = document.querySelector('#df-045606a1-4e93-4c71-9e0b-456c2266b9e7');\n",
              "          const dataTable =\n",
              "            await google.colab.kernel.invokeFunction('convertToInteractive',\n",
              "                                                     [key], {});\n",
              "          if (!dataTable) return;\n",
              "\n",
              "          const docLinkHtml = 'Like what you see? Visit the ' +\n",
              "            '<a target=\"_blank\" href=https://colab.research.google.com/notebooks/data_table.ipynb>data table notebook</a>'\n",
              "            + ' to learn more about interactive tables.';\n",
              "          element.innerHTML = '';\n",
              "          dataTable['output_type'] = 'display_data';\n",
              "          await google.colab.output.renderOutput(dataTable, element);\n",
              "          const docLink = document.createElement('div');\n",
              "          docLink.innerHTML = docLinkHtml;\n",
              "          element.appendChild(docLink);\n",
              "        }\n",
              "      </script>\n",
              "    </div>\n",
              "  </div>\n",
              "  "
            ]
          },
          "metadata": {},
          "execution_count": 20
        }
      ]
    },
    {
      "cell_type": "code",
      "source": [
        "grouped_data = df.groupby(['Item'])['Y2015', 'Y2018'].sum()\n",
        "print(grouped_data)"
      ],
      "metadata": {
        "colab": {
          "base_uri": "https://localhost:8080/"
        },
        "id": "uOvEFSObw_1-",
        "outputId": "9a4ae0e1-1d35-4b3c-9ece-a270e75ab7a8"
      },
      "execution_count": 29,
      "outputs": [
        {
          "output_type": "stream",
          "name": "stdout",
          "text": [
            "                         Y2015      Y2018\n",
            "Item                                     \n",
            "Alcohol, Non-Food      2180.00    2293.00\n",
            "Alcoholic Beverages   98783.72   97847.27\n",
            "Animal Products       11811.73   11578.61\n",
            "Animal fats          200675.72  269648.27\n",
            "Apples and products   10559.15    9640.51\n",
            "...                        ...        ...\n",
            "Vegetables, Other    158104.08  163987.21\n",
            "Vegetal Products     107064.17  107775.39\n",
            "Wheat and products   234710.51  242645.19\n",
            "Wine                   4251.81    4039.32\n",
            "Yams                 203151.78  221272.09\n",
            "\n",
            "[119 rows x 2 columns]\n"
          ]
        },
        {
          "output_type": "stream",
          "name": "stderr",
          "text": [
            "<ipython-input-29-f7d78fca66c8>:1: FutureWarning: Indexing with multiple keys (implicitly converted to a tuple of keys) will be deprecated, use a list instead.\n",
            "  grouped_data = df.groupby(['Item'])['Y2015', 'Y2018'].sum()\n"
          ]
        }
      ]
    },
    {
      "cell_type": "code",
      "source": [
        "sel = df.groupby(['Area'])['Y2017'].sum()\n",
        "print (sel)"
      ],
      "metadata": {
        "colab": {
          "base_uri": "https://localhost:8080/"
        },
        "id": "g3WF2oX_60Zc",
        "outputId": "1276def6-9dcf-4030-b237-e1fcd796a798"
      },
      "execution_count": 45,
      "outputs": [
        {
          "output_type": "stream",
          "name": "stdout",
          "text": [
            "Area\n",
            "Algeria                         325644.27\n",
            "Angola                          229159.57\n",
            "Benin                           124771.22\n",
            "Botswana                         22101.30\n",
            "Burkina Faso                    101855.07\n",
            "Cabo Verde                       14650.74\n",
            "Cameroon                        232030.43\n",
            "Central African Republic         29937.00\n",
            "Chad                             71594.68\n",
            "Comoros                             59.84\n",
            "Congo                            41181.68\n",
            "Côte d'Ivoire                   224599.01\n",
            "Djibouti                         22729.91\n",
            "Egypt                           866379.92\n",
            "Eswatini                         54343.33\n",
            "Ethiopia                        448683.76\n",
            "Ethiopia PDR                         0.00\n",
            "Gabon                            27979.64\n",
            "Gambia                           23154.18\n",
            "Ghana                           337599.06\n",
            "Guinea                           98138.87\n",
            "Guinea-Bissau                    19102.77\n",
            "Kenya                           264660.66\n",
            "Lesotho                          21267.96\n",
            "Liberia                          29342.20\n",
            "Madagascar                      131197.73\n",
            "Malawi                          181098.71\n",
            "Mali                            149928.33\n",
            "Mauritania                      156665.46\n",
            "Mauritius                        51114.83\n",
            "Morocco                         388495.36\n",
            "Mozambique                      161407.98\n",
            "Namibia                          29874.89\n",
            "Niger                           126707.58\n",
            "Nigeria                        1483268.23\n",
            "Rwanda                           73663.69\n",
            "Sao Tome and Principe            12662.63\n",
            "Senegal                          95681.15\n",
            "Seychelles                         442.34\n",
            "Sierra Leone                     55311.33\n",
            "South Africa                    517590.54\n",
            "Sudan                           239931.92\n",
            "Sudan (former)                       0.00\n",
            "Togo                             49841.88\n",
            "Tunisia                         124167.20\n",
            "Uganda                          213950.38\n",
            "United Republic of Tanzania     322616.85\n",
            "Zambia                          103223.77\n",
            "Zimbabwe                         75919.34\n",
            "Name: Y2017, dtype: float64\n"
          ]
        }
      ]
    },
    {
      "cell_type": "code",
      "source": [
        "sorted1 = sel.sort_values(ascending=True)\n",
        "print(sorted1)"
      ],
      "metadata": {
        "colab": {
          "base_uri": "https://localhost:8080/"
        },
        "id": "zA0NlvrlAMO4",
        "outputId": "dce1b91e-acd8-4b6a-df83-0c4e17f497a9"
      },
      "execution_count": 47,
      "outputs": [
        {
          "output_type": "stream",
          "name": "stdout",
          "text": [
            "Area\n",
            "Sudan (former)                       0.00\n",
            "Ethiopia PDR                         0.00\n",
            "Comoros                             59.84\n",
            "Seychelles                         442.34\n",
            "Sao Tome and Principe            12662.63\n",
            "Cabo Verde                       14650.74\n",
            "Guinea-Bissau                    19102.77\n",
            "Lesotho                          21267.96\n",
            "Botswana                         22101.30\n",
            "Djibouti                         22729.91\n",
            "Gambia                           23154.18\n",
            "Gabon                            27979.64\n",
            "Liberia                          29342.20\n",
            "Namibia                          29874.89\n",
            "Central African Republic         29937.00\n",
            "Congo                            41181.68\n",
            "Togo                             49841.88\n",
            "Mauritius                        51114.83\n",
            "Eswatini                         54343.33\n",
            "Sierra Leone                     55311.33\n",
            "Chad                             71594.68\n",
            "Rwanda                           73663.69\n",
            "Zimbabwe                         75919.34\n",
            "Senegal                          95681.15\n",
            "Guinea                           98138.87\n",
            "Burkina Faso                    101855.07\n",
            "Zambia                          103223.77\n",
            "Tunisia                         124167.20\n",
            "Benin                           124771.22\n",
            "Niger                           126707.58\n",
            "Madagascar                      131197.73\n",
            "Mali                            149928.33\n",
            "Mauritania                      156665.46\n",
            "Mozambique                      161407.98\n",
            "Malawi                          181098.71\n",
            "Uganda                          213950.38\n",
            "Côte d'Ivoire                   224599.01\n",
            "Angola                          229159.57\n",
            "Cameroon                        232030.43\n",
            "Sudan                           239931.92\n",
            "Kenya                           264660.66\n",
            "United Republic of Tanzania     322616.85\n",
            "Algeria                         325644.27\n",
            "Ghana                           337599.06\n",
            "Morocco                         388495.36\n",
            "Ethiopia                        448683.76\n",
            "South Africa                    517590.54\n",
            "Egypt                           866379.92\n",
            "Nigeria                        1483268.23\n",
            "Name: Y2017, dtype: float64\n"
          ]
        }
      ]
    },
    {
      "cell_type": "code",
      "source": [
        "lowest7 = sorted1.iloc[6]\n",
        "print (lowest7)"
      ],
      "metadata": {
        "colab": {
          "base_uri": "https://localhost:8080/"
        },
        "id": "oo1B5bYxBjkQ",
        "outputId": "13b97692-a3fe-43d6-b6c6-6ee5c044c536"
      },
      "execution_count": 48,
      "outputs": [
        {
          "output_type": "stream",
          "name": "stdout",
          "text": [
            "19102.77\n"
          ]
        }
      ]
    },
    {
      "cell_type": "code",
      "source": [
        "unique_count = df['Area'].nunique()\n",
        "print(unique_count)"
      ],
      "metadata": {
        "colab": {
          "base_uri": "https://localhost:8080/"
        },
        "id": "rjD-oe4XDpAJ",
        "outputId": "7e3b0db2-7b16-4cc6-d588-a239c4a9f5c2"
      },
      "execution_count": 49,
      "outputs": [
        {
          "output_type": "stream",
          "name": "stdout",
          "text": [
            "49\n"
          ]
        }
      ]
    },
    {
      "cell_type": "code",
      "source": [
        "mean_val = df['Y2017'].mean()\n",
        "std_val = df['Y2017'].std()\n",
        "print(round(mean_val,2), round(std_val,2))"
      ],
      "metadata": {
        "colab": {
          "base_uri": "https://localhost:8080/"
        },
        "id": "W_EMCwaJHY1O",
        "outputId": "8cf5c3b0-c7d8-4ebd-cfa1-b58b8f1cbee9"
      },
      "execution_count": 51,
      "outputs": [
        {
          "output_type": "stream",
          "name": "stdout",
          "text": [
            "140.92 1671.86\n"
          ]
        }
      ]
    },
    {
      "cell_type": "code",
      "source": [
        "sel2 = df.groupby(['Area'])[\"Y2017\"].sum()\n",
        "highest_sum = sel2.max()\n",
        "print(sel2)\n",
        "print(highest_sum)"
      ],
      "metadata": {
        "colab": {
          "base_uri": "https://localhost:8080/"
        },
        "id": "sP2EfvKoJIIB",
        "outputId": "888fa0d2-f1a1-4e2b-b093-403ee7fefe74"
      },
      "execution_count": 55,
      "outputs": [
        {
          "output_type": "stream",
          "name": "stdout",
          "text": [
            "Area\n",
            "Algeria                         325644.27\n",
            "Angola                          229159.57\n",
            "Benin                           124771.22\n",
            "Botswana                         22101.30\n",
            "Burkina Faso                    101855.07\n",
            "Cabo Verde                       14650.74\n",
            "Cameroon                        232030.43\n",
            "Central African Republic         29937.00\n",
            "Chad                             71594.68\n",
            "Comoros                             59.84\n",
            "Congo                            41181.68\n",
            "Côte d'Ivoire                   224599.01\n",
            "Djibouti                         22729.91\n",
            "Egypt                           866379.92\n",
            "Eswatini                         54343.33\n",
            "Ethiopia                        448683.76\n",
            "Ethiopia PDR                         0.00\n",
            "Gabon                            27979.64\n",
            "Gambia                           23154.18\n",
            "Ghana                           337599.06\n",
            "Guinea                           98138.87\n",
            "Guinea-Bissau                    19102.77\n",
            "Kenya                           264660.66\n",
            "Lesotho                          21267.96\n",
            "Liberia                          29342.20\n",
            "Madagascar                      131197.73\n",
            "Malawi                          181098.71\n",
            "Mali                            149928.33\n",
            "Mauritania                      156665.46\n",
            "Mauritius                        51114.83\n",
            "Morocco                         388495.36\n",
            "Mozambique                      161407.98\n",
            "Namibia                          29874.89\n",
            "Niger                           126707.58\n",
            "Nigeria                        1483268.23\n",
            "Rwanda                           73663.69\n",
            "Sao Tome and Principe            12662.63\n",
            "Senegal                          95681.15\n",
            "Seychelles                         442.34\n",
            "Sierra Leone                     55311.33\n",
            "South Africa                    517590.54\n",
            "Sudan                           239931.92\n",
            "Sudan (former)                       0.00\n",
            "Togo                             49841.88\n",
            "Tunisia                         124167.20\n",
            "Uganda                          213950.38\n",
            "United Republic of Tanzania     322616.85\n",
            "Zambia                          103223.77\n",
            "Zimbabwe                         75919.34\n",
            "Name: Y2017, dtype: float64\n",
            "1483268.23\n"
          ]
        }
      ]
    },
    {
      "cell_type": "code",
      "source": [
        "total_missing = df['Y2014'].isnull().sum()\n",
        "percent_missing = (total_missing / len(df['Y2014'])) * 100\n",
        "print(total_missing, percent_missing)\n"
      ],
      "metadata": {
        "colab": {
          "base_uri": "https://localhost:8080/"
        },
        "id": "_l4lktAELlIz",
        "outputId": "538c8b25-f845-4faf-e48f-00c7e3c130ce"
      },
      "execution_count": 56,
      "outputs": [
        {
          "output_type": "stream",
          "name": "stdout",
          "text": [
            "1589 2.6073544131401474\n"
          ]
        }
      ]
    },
    {
      "cell_type": "code",
      "source": [
        "corr_mat = df.corr()\n",
        "print(corr_mat)\n",
        "least_corr_col = corr_mat.min().idxmin()\n",
        "least_corr = corr_mat['Element Code'].min()\n",
        "print(least_corr)"
      ],
      "metadata": {
        "colab": {
          "base_uri": "https://localhost:8080/"
        },
        "id": "TlIDYp3yMT-p",
        "outputId": "b112d649-e7c1-459b-b3d1-ddc2da2761bb"
      },
      "execution_count": 61,
      "outputs": [
        {
          "output_type": "stream",
          "name": "stdout",
          "text": [
            "              Area Code  Item Code  Element Code     Y2014     Y2015  \\\n",
            "Area Code      1.000000  -0.005159     -0.000209  0.006164  0.005472   \n",
            "Item Code     -0.005159   1.000000     -0.024683  0.021722  0.020857   \n",
            "Element Code  -0.000209  -0.024683      1.000000  0.024457  0.023889   \n",
            "Y2014          0.006164   0.021722      0.024457  1.000000  0.994647   \n",
            "Y2015          0.005472   0.020857      0.023889  0.994647  1.000000   \n",
            "Y2016          0.005247   0.020109      0.023444  0.996081  0.995739   \n",
            "Y2017          0.005006   0.021494      0.024254  0.995230  0.988048   \n",
            "Y2018          0.005665   0.021314      0.024279  0.994872  0.988208   \n",
            "\n",
            "                 Y2016     Y2017     Y2018  \n",
            "Area Code     0.005247  0.005006  0.005665  \n",
            "Item Code     0.020109  0.021494  0.021314  \n",
            "Element Code  0.023444  0.024254  0.024279  \n",
            "Y2014         0.996081  0.995230  0.994872  \n",
            "Y2015         0.995739  0.988048  0.988208  \n",
            "Y2016         1.000000  0.992785  0.992757  \n",
            "Y2017         0.992785  1.000000  0.998103  \n",
            "Y2018         0.992757  0.998103  1.000000  \n",
            "-0.02468327357386329\n"
          ]
        },
        {
          "output_type": "stream",
          "name": "stderr",
          "text": [
            "<ipython-input-61-dfdd4a0000e1>:1: FutureWarning: The default value of numeric_only in DataFrame.corr is deprecated. In a future version, it will default to False. Select only valid columns or specify the value of numeric_only to silence this warning.\n",
            "  corr_mat = df.corr()\n"
          ]
        }
      ]
    },
    {
      "cell_type": "code",
      "source": [
        "total = df.groupby(['Element'])['Y2017'].sum()\n",
        "print(total)"
      ],
      "metadata": {
        "colab": {
          "base_uri": "https://localhost:8080/"
        },
        "id": "78-0kbUvRVl5",
        "outputId": "dbc72af7-bb4c-4e89-84c2-3d987b777984"
      },
      "execution_count": 62,
      "outputs": [
        {
          "output_type": "stream",
          "name": "stdout",
          "text": [
            "Element\n",
            "Domestic supply quantity                  2088198.10\n",
            "Export Quantity                            182338.80\n",
            "Fat supply quantity (g/capita/day)          10253.84\n",
            "Feed                                       223705.68\n",
            "Food                                      1258888.28\n",
            "Food supply (kcal/capita/day)              454681.00\n",
            "Food supply quantity (kg/capita/yr)         48690.04\n",
            "Import Quantity                            294559.09\n",
            "Losses                                     160614.00\n",
            "Other uses (non-food)                       91645.97\n",
            "Processing                                 292836.00\n",
            "Production                                2030056.89\n",
            "Protein supply quantity (g/capita/day)      11842.45\n",
            "Residuals                                   35500.00\n",
            "Seed                                        24870.14\n",
            "Stock Variation                             54316.91\n",
            "Total Population - Both sexes             1112641.00\n",
            "Tourist consumption                            91.00\n",
            "Name: Y2017, dtype: float64\n"
          ]
        }
      ]
    },
    {
      "cell_type": "code",
      "source": [
        "stock= df.groupby(['Element']).sum()\n",
        "print(stock)"
      ],
      "metadata": {
        "colab": {
          "base_uri": "https://localhost:8080/"
        },
        "id": "iwOLthoAW4Ex",
        "outputId": "5118c386-834f-4045-a9c3-f71682e9b241"
      },
      "execution_count": 75,
      "outputs": [
        {
          "output_type": "stream",
          "name": "stdout",
          "text": [
            "                                        Area Code  Item Code  Element Code  \\\n",
            "Element                                                                      \n",
            "Domestic supply quantity                   708993   14197445      28068795   \n",
            "Export Quantity                            599910   11840553      26026133   \n",
            "Fat supply quantity (g/capita/day)         675050   13535000       3435732   \n",
            "Feed                                       176272    3538507       7282199   \n",
            "Food                                       663295   13285035      25406622   \n",
            "Food supply (kcal/capita/day)              674057   13511060       3329296   \n",
            "Food supply quantity (kg/capita/yr)        658446   13185401       3163725   \n",
            "Import Quantity                            688174   13795966      28834929   \n",
            "Losses                                     274353    5424803      10292107   \n",
            "Other uses (non-food)                      235554    4729749       8926728   \n",
            "Processing                                 271940    5350416      10313310   \n",
            "Production                                 526751   10450053      21388191   \n",
            "Protein supply quantity (g/capita/day)     675050   13535000       3385502   \n",
            "Residuals                                  623271   12421089      24066350   \n",
            "Seed                                       103537    2035933       4211574   \n",
            "Stock Variation                            571566   11329527      21464704   \n",
            "Total Population - Both sexes                6020     112545         22995   \n",
            "Tourist consumption                         50308    1486528       2869905   \n",
            "\n",
            "                                             Y2014       Y2015       Y2016  \\\n",
            "Element                                                                      \n",
            "Domestic supply quantity                1996716.35  2021493.55  2044842.70   \n",
            "Export Quantity                          150020.64   157614.47   151920.46   \n",
            "Fat supply quantity (g/capita/day)        10225.56    10235.74    10102.77   \n",
            "Feed                                     216927.89   225050.22   228958.65   \n",
            "Food                                    1212332.49  1232361.10  1247022.17   \n",
            "Food supply (kcal/capita/day)            454257.00   453383.00   451810.00   \n",
            "Food supply quantity (kg/capita/yr)       49650.63    49345.13    48985.28   \n",
            "Import Quantity                          274144.48   267018.46   286582.78   \n",
            "Losses                                   153223.00   155439.00   157787.00   \n",
            "Other uses (non-food)                     78718.13    66254.41    69563.68   \n",
            "Processing                               282923.00   287929.00   280631.00   \n",
            "Production                              1931287.75  1947019.39  1943537.15   \n",
            "Protein supply quantity (g/capita/day)    11836.46    11833.95    11779.69   \n",
            "Residuals                                 30149.00    30045.00    37224.00   \n",
            "Seed                                      21922.92    23976.82    23389.20   \n",
            "Stock Variation                           58749.83    34910.99    33140.12   \n",
            "Total Population - Both sexes           1031585.00  1058081.00  1085107.00   \n",
            "Tourist consumption                         416.00      349.00       89.00   \n",
            "\n",
            "                                             Y2017       Y2018  \n",
            "Element                                                         \n",
            "Domestic supply quantity                2088198.10  2161192.10  \n",
            "Export Quantity                          182338.80   181594.80  \n",
            "Fat supply quantity (g/capita/day)        10253.84    10258.69  \n",
            "Feed                                     223705.68   233489.68  \n",
            "Food                                    1258888.28  1303841.28  \n",
            "Food supply (kcal/capita/day)            454681.00   455261.00  \n",
            "Food supply quantity (kg/capita/yr)       48690.04    49056.85  \n",
            "Import Quantity                          294559.09   287997.09  \n",
            "Losses                                   160614.00   163902.00  \n",
            "Other uses (non-food)                     91645.97    91300.97  \n",
            "Processing                               292836.00   308429.00  \n",
            "Production                              2030056.89  2075072.89  \n",
            "Protein supply quantity (g/capita/day)    11842.45    11833.56  \n",
            "Residuals                                 35500.00    34864.00  \n",
            "Seed                                      24870.14    25263.14  \n",
            "Stock Variation                           54316.91    20577.91  \n",
            "Total Population - Both sexes           1112641.00  1140605.00  \n",
            "Tourist consumption                          91.00       90.00  \n"
          ]
        },
        {
          "output_type": "stream",
          "name": "stderr",
          "text": [
            "<ipython-input-75-ddf698f4c5f9>:1: FutureWarning: The default value of numeric_only in DataFrameGroupBy.sum is deprecated. In a future version, numeric_only will default to False. Either specify numeric_only or select only columns which should be valid for the function.\n",
            "  stock= df.groupby(['Element']).sum()\n"
          ]
        }
      ]
    }
  ]
}